{
 "cells": [
  {
   "cell_type": "code",
   "execution_count": 10,
   "id": "234ab039",
   "metadata": {},
   "outputs": [],
   "source": [
    "import speech_recognition as sr\n",
    "\n",
    "def speech():\n",
    "    required=-1\n",
    "    er = \"error\"\n",
    "    for index, name in enumerate(sr.Microphone.list_microphone_names()):\n",
    "        if \"pulse\" in name:\n",
    "            required= index\n",
    "    r = sr.Recognizer()\n",
    "    with sr.Microphone(device_index= 1) as source:\n",
    "        r.adjust_for_ambient_noise(source)\n",
    "        print(\"---------------\")\n",
    "        audio = r.listen(source, phrase_time_limit=8)\n",
    "    try:\n",
    "        input = r.recognize_google(audio)\n",
    "        print(\"You said: \" + input)\n",
    "        return str(input)\n",
    "    except sr.UnknownValueError:\n",
    "        print(\"Google Speech Recognition could not understand audio\")\n",
    "        return er\n",
    "    except sr.RequestError as e:\n",
    "        print(\"Could not request results from Google Speech Recognition service; {0}\".format(e))\n",
    "        return er\n",
    "    \n",
    "def speecht():\n",
    "    x = str(input())\n",
    "    return x"
   ]
  },
  {
   "cell_type": "code",
   "execution_count": 11,
   "id": "feab376a",
   "metadata": {},
   "outputs": [],
   "source": [
    "def speech_to_text():\n",
    "    out = speecht()\n",
    "    if(out == \"error\"):\n",
    "        for i in range(5):\n",
    "            print(\"Attempting to retry-\"+str(i))\n",
    "            out = speecht()\n",
    "            if(out != \"error\"):\n",
    "                break             \n",
    "    return out\n",
    "        "
   ]
  },
  {
   "cell_type": "code",
   "execution_count": 12,
   "id": "0b917cea",
   "metadata": {},
   "outputs": [],
   "source": [
    "import numpy as np\n",
    "from PIL import Image\n",
    "import cv2\n",
    "import matplotlib.pyplot as plt\n",
    "def convertImage(imge):\n",
    "    format_image = Image.open(imge)\n",
    "    format_image.save(PATH+'\\\\Producer\\\\1.png')\n",
    "    img = Image.open(PATH+'\\\\Producer\\\\1.png')\n",
    "    img = img.convert(\"RGBA\")\n",
    "    datas = img.getdata()\n",
    "    newData = []\n",
    "    for item in datas:\n",
    "        if item[0] == 255 and item[1] == 255 and item[2] == 255:\n",
    "            newData.append((255, 255, 255, 0))\n",
    "        else:\n",
    "            newData.append(item)\n",
    " \n",
    "    img.putdata(newData)\n",
    "    img.save(PATH+'\\\\Producer\\\\1.png', \"PNG\")\n",
    "    print(\"Successful\")\n",
    "\n",
    "def adder():\n",
    "    img = Image.open(PATH+'\\\\Producer\\\\1.png')\n",
    "    background = Image.open(PATH+'\\\\Producer\\\\final.png').convert(\"RGBA\")\n",
    "    background.paste(img, (0, 0), img)\n",
    "    background.save(PATH+'\\\\Producer\\\\final.png',\"PNG\")\n",
    "    image1 = cv2.imread(PATH+'\\\\Producer\\\\final.png')\n",
    "    plt.imshow(image1)"
   ]
  },
  {
   "cell_type": "code",
   "execution_count": 13,
   "id": "b76fa6ac",
   "metadata": {},
   "outputs": [],
   "source": [
    "def faceshape():\n",
    "    print(\"What is the face shape look alike ? \\n\")\n",
    "    ui = speech_to_text()\n",
    "    if (str.__contains__('DiamonddimonddamonddiamondDiamondmondshape ',ui)):\n",
    "        convertImage(PATH+'\\\\Shape\\\\Diamondface.jpeg')\n",
    "        adder()\n",
    "    elif (str.__contains__('roundroundshapewoundoundroundground ',ui)):\n",
    "        convertImage(PATH+'\\\\Shape\\\\roundface.jpeg')\n",
    "        adder()\n",
    "    elif (str.__contains__('vshapevweshapeushapeeshapeviewshape ',ui)):\n",
    "        convertImage(PATH+'\\\\Shape\\\\vface.jpeg')\n",
    "        adder()\n",
    "    else:\n",
    "        print(\"Step Skipped\")"
   ]
  },
  {
   "cell_type": "code",
   "execution_count": 14,
   "id": "886e9654",
   "metadata": {},
   "outputs": [],
   "source": [
    "def hair():\n",
    "    print(\"What does hair style look alike ? \\n\")\n",
    "    ui = speech_to_text()\n",
    "    if (str.__contains__('backwardbackspikebackbackwardhairstyle ',ui)):\n",
    "        convertImage(PATH+'\\\\hair\\\\backwardhairstyle.jpeg')\n",
    "        adder()\n",
    "    elif (str.__contains__('nohairstylenoforwardstylerowhairstyle ',ui)):\n",
    "        convertImage(PATH+'\\\\hair\\\\nohairstyle.jpeg')\n",
    "        adder()\n",
    "    elif (str.__contains__('sidehairstylesidecombsidestyle',ui)):\n",
    "        convertImage(PATH+'\\\\hair\\\\sidehairstyle.jpeg')\n",
    "        adder()\n",
    "    else:\n",
    "        print(\"Step Skipped\")"
   ]
  },
  {
   "cell_type": "code",
   "execution_count": 15,
   "id": "1fa798e7",
   "metadata": {},
   "outputs": [],
   "source": [
    "def lips():\n",
    "    print(\"What does lips look alike ? \\n\")\n",
    "    ui = speech_to_text()\n",
    "    if (str.__contains__('longlipsbiglipslargelips ',ui)):\n",
    "        convertImage(PATH+'\\\\lips\\\\longlips.jpeg')\n",
    "        adder()\n",
    "    elif (str.__contains__('smalllipsnormallipslowlipssmallmalllips ',ui)):\n",
    "        convertImage(PATH+'\\\\lips\\\\normallips.jpeg')\n",
    "        adder()\n",
    "    else:\n",
    "        print(\"Step Skipped\")"
   ]
  },
  {
   "cell_type": "code",
   "execution_count": 16,
   "id": "61d3a0c1",
   "metadata": {},
   "outputs": [],
   "source": [
    "def nose():\n",
    "    print(\"What does nose look alike ? \\n\")\n",
    "    ui = speech_to_text()\n",
    "    if (str.__contains__('largenosemediumnosevediumnosemediumsizenose ',ui)):\n",
    "        convertImage(PATH+'\\\\nose\\\\mediumnose.jpeg')\n",
    "        adder()\n",
    "    elif (str.__contains__('smallnosesizesmallnoselittlenosesmallsized ',ui)):\n",
    "        convertImage(PATH+'\\\\nose\\\\smallnose.jpeg')\n",
    "        adder()\n",
    "    else:\n",
    "        print(\"Step Skipped\")\n",
    "        "
   ]
  },
  {
   "cell_type": "code",
   "execution_count": 17,
   "id": "880720be",
   "metadata": {},
   "outputs": [],
   "source": [
    "def moustache():\n",
    "    print(\"What does moustache look alike ? \\n\")\n",
    "    ui = speech_to_text()\n",
    "    if (str.__contains__('beardbreedhighlowmediumbeard ',ui)):\n",
    "        convertImage(PATH+'\\\\moustache\\\\beard.jpeg')\n",
    "        adder()\n",
    "    elif (str.__contains__('curlymoustachecurliedcurlybentupwardsmoustache ',ui)):\n",
    "        convertImage(PATH+'\\\\moustache\\\\curlymoustache.jpeg')\n",
    "        adder()\n",
    "    elif (str.__contains__('normalmoustachelowmoustachelightlow',ui)):\n",
    "        convertImage(PATH+'\\\\moustache\\\\normalmoustache.jpeg')\n",
    "        adder()\n",
    "    else:\n",
    "        print(\"Step Skipped\")"
   ]
  },
  {
   "cell_type": "code",
   "execution_count": 18,
   "id": "16eb8c19",
   "metadata": {},
   "outputs": [
    {
     "name": "stdout",
     "output_type": "stream",
     "text": [
      "How do you give input ? Say Manual or Voice !\n",
      "voice\n",
      "You have Choosen Voice Input \n",
      "Please answer the questions Carefully ! \n",
      "\n",
      "What is the face shape look alike ? \n",
      "\n",
      "round\n",
      "Successful\n",
      "What does hair style look alike ? \n",
      "\n",
      "side\n",
      "Successful\n",
      "What does nose look alike ? \n",
      "\n",
      "long\n",
      "Step Skipped\n",
      "What does lips look alike ? \n",
      "\n",
      "small\n",
      "Successful\n",
      "What does moustache look alike ? \n",
      "\n",
      "beard\n",
      "Successful\n"
     ]
    },
    {
     "data": {
      "image/png": "[encoded data removed]",
      "text/plain": [
       "<Figure size 432x288 with 1 Axes>"
      ]
     },
     "metadata": {
      "needs_background": "light"
     },
     "output_type": "display_data"
    }
   ],
   "source": [
    "PATH = './Data'\n",
    "def CodeRunner():\n",
    "    print(\"How do you give input ? Say Manual or Voice !\")\n",
    "    \n",
    "    format_image = Image.open(PATH+'\\\\Producer\\\\final.jpeg')\n",
    "    format_image.save(PATH+'\\\\Producer\\\\final.png')\n",
    "    user_input = speech_to_text()\n",
    "    if (str.__contains__('Voicevoiceoiceautovicewisevoicesinputvoiceinput', user_input)):\n",
    "        print(\"You have Choosen Voice Input \")\n",
    "        print(\"Please answer the questions Carefully ! \\n\")\n",
    "        faceshape()\n",
    "        hair()\n",
    "        nose()\n",
    "        lips()\n",
    "        moustache()\n",
    "        \n",
    "CodeRunner()\n"
   ]
  },
  {
   "cell_type": "code",
   "execution_count": null,
   "id": "8648a5a3",
   "metadata": {},
   "outputs": [],
   "source": []
  }
 ],
 "metadata": {
  "kernelspec": {
   "display_name": "Python 3 (ipykernel)",
   "language": "python",
   "name": "python3"
  },
  "language_info": {
   "codemirror_mode": {
    "name": "ipython",
    "version": 3
   },
   "file_extension": ".py",
   "mimetype": "text/x-python",
   "name": "python",
   "nbconvert_exporter": "python",
   "pygments_lexer": "ipython3",
   "version": "3.10.6"
  }
 },
 "nbformat": 4,
 "nbformat_minor": 5
}
